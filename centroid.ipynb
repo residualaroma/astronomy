{
 "cells": [
  {
   "cell_type": "code",
   "execution_count": 6,
   "metadata": {},
   "outputs": [],
   "source": [
    "from astropy.io import fits\n",
    "import matplotlib.pyplot as plt\n",
    "from photutils.centroids import centroid_sources\n",
    "from photutils.centroids import (centroid_1dg, centroid_2dg, centroid_com, centroid_quadratic)\n",
    "import sep"
   ]
  },
  {
   "cell_type": "code",
   "execution_count": 2,
   "metadata": {},
   "outputs": [
    {
     "data": {
      "text/plain": [
       "(2494.87, 3225.87)"
      ]
     },
     "execution_count": 2,
     "metadata": {},
     "output_type": "execute_result"
    }
   ],
   "source": [
    "# converting dolphot coords into s-extractor coords \n",
    "# s-extractor and ds9 have the same coord convention, which is nice ig :/\n",
    "# for some reason dolphot and photuils decided to be unique where they have it different\n",
    "def dol_to_sex(x_orig, y_orig):\n",
    "    x_new = 0.5 + x_orig\n",
    "    y_new = 0.5 + y_orig\n",
    "    return x_new, y_new\n",
    "\n",
    "dol_to_sex(2494.37, 3225.37)"
   ]
  },
  {
   "cell_type": "code",
   "execution_count": 3,
   "metadata": {},
   "outputs": [
    {
     "data": {
      "text/plain": [
       "(2250.63236967, 2252.47814589)"
      ]
     },
     "execution_count": 3,
     "metadata": {},
     "output_type": "execute_result"
    }
   ],
   "source": [
    "# convserting photutils coords into s-extractor coords\n",
    "# plug the coordinates generated using coord_loc() here to get accurate ds9/s-extractor coordinates\n",
    "def photutil_to_sex(x_orig, y_orig):\n",
    "    x_new = 1 + x_orig\n",
    "    y_new = 1 + y_orig\n",
    "    return(x_new, y_new)\n",
    "\n",
    "photutil_to_sex(2249.63236967, 2251.47814589)"
   ]
  },
  {
   "cell_type": "code",
   "execution_count": 4,
   "metadata": {},
   "outputs": [],
   "source": [
    "# function to find the exact coords of the sn using a guess of where it is\n",
    "# also plots an img with a marker on it just cause lol\n",
    "# boxsize is size of the box for the img it generates\n",
    "# img has to be in quotes lmao\n",
    "# guess_x, guess_y is the approx location of the sn in the post expl img (in pxls)\n",
    "\n",
    "# test later w/other images lmaoooooooo\n",
    "# also too lazy to generalize boxsize since i tried it with another size and i got a meh\n",
    "def coord_loc(fits_img, guess_x, guess_y, boxsize):\n",
    "    test = fits.open(fits_img)\n",
    "    data = test[0].data\n",
    "    fig, ax = plt.subplots(1, 1, figsize=(5,5))\n",
    "    ax.imshow(data[round(guess_y-boxsize/2):round(guess_y+boxsize/2), #zooms in 250x!\n",
    "                   round(guess_x-boxsize/2):round(guess_x+boxsize/2)], origin='lower', interpolation='nearest') \n",
    "    x, y = centroid_sources(data, guess_x, guess_y, box_size=21, centroid_func=centroid_com)\n",
    "    plt.plot(x/250, y/250, color= \"red\" , marker= \"+\", ms=15, mew=2.0)\n",
    "    print(x)  \n",
    "    print(y)\n",
    "    test.close()"
   ]
  },
  {
   "cell_type": "code",
   "execution_count": 5,
   "metadata": {},
   "outputs": [
    {
     "name": "stdout",
     "output_type": "stream",
     "text": [
      "[2249.63236967]\n",
      "[2251.47814589]\n"
     ]
    },
    {
     "data": {
      "image/png": "[encoded data removed]",
      "text/plain": [
       "<Figure size 360x360 with 1 Axes>"
      ]
     },
     "metadata": {
      "needs_background": "light"
     },
     "output_type": "display_data"
    }
   ],
   "source": [
    "coord_loc(\"2023bvj.i.ut230418.1040_stch_1.sw.fits\", 2250, 2251, 20)"
   ]
  },
  {
   "cell_type": "code",
   "execution_count": null,
   "metadata": {},
   "outputs": [],
   "source": []
  }
 ],
 "metadata": {
  "kernelspec": {
   "display_name": "Python 3",
   "language": "python",
   "name": "python3"
  },
  "language_info": {
   "codemirror_mode": {
    "name": "ipython",
    "version": 3
   },
   "file_extension": ".py",
   "mimetype": "text/x-python",
   "name": "python",
   "nbconvert_exporter": "python",
   "pygments_lexer": "ipython3",
   "version": "3.8.5"
  }
 },
 "nbformat": 4,
 "nbformat_minor": 4
}
